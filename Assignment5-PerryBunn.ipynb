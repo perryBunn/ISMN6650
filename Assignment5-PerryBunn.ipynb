{
 "cells": [
  {
   "cell_type": "markdown",
   "metadata": {},
   "source": [
    "# Perry Bunn"
   ]
  },
  {
   "cell_type": "code",
   "execution_count": 1,
   "metadata": {},
   "outputs": [],
   "source": [
    "import math\n",
    "\n",
    "\n",
    "class List(list):\n",
    "    def swap_ends(self):\n",
    "        temp = self[0]\n",
    "        self[0] = self[len(self) - 1]\n",
    "        self[len(self) - 1] = temp\n",
    "        return self\n",
    "\n",
    "    def shift(self):\n",
    "        temp = self.pop(len(self) - 1)\n",
    "        self.insert(0, temp)\n",
    "        return self\n",
    "\n",
    "    def replace_even(self):\n",
    "        for x in range(len(self) - 1):\n",
    "            if self[x] % 2 == 0:\n",
    "                self[x] = 0\n",
    "        return self\n",
    "\n",
    "    def replace_largest_neighbor(self):\n",
    "        for x in range(len(self) - 1):\n",
    "            if x == 0 or x == len(self) - 1:\n",
    "                continue\n",
    "            else:\n",
    "                largest = max(self[x - 1], self[x + 1])\n",
    "                self[x] = largest\n",
    "        return self\n",
    "\n",
    "    # If the length of the list is 2 or less then the resulting list will be empty\n",
    "    def remove_middle(self):\n",
    "        if len(self) % 2 == 0:\n",
    "            self.pop(math.ceil(len(self) / 2))\n",
    "            self.pop(math.floor(len(self) / 2))\n",
    "        else:\n",
    "            self.pop(math.floor(len(self) / 2))\n",
    "        return self\n",
    "\n",
    "    def even_front(self):\n",
    "        index = 0\n",
    "        for x in range(len(self)):\n",
    "            if self[x] % 2 == 0:\n",
    "                temp = self.pop(x)\n",
    "                self.insert(index, temp)\n",
    "                index += 1\n",
    "        return self\n",
    "\n",
    "    # if the list is length 1 then it will return None\n",
    "    def second_largest(self):\n",
    "        try:\n",
    "            self.sort(reverse=True)\n",
    "            return self[1]\n",
    "        except LookupError:\n",
    "            return None\n",
    "\n",
    "    def is_sorted(self):\n",
    "        ref = self\n",
    "        ref.sort()\n",
    "        return ref == self\n",
    "\n",
    "    def dup_adjacent(self):\n",
    "        for x in range(len(self) - 1):\n",
    "            if self[x] == self[x + 1]:\n",
    "                return True\n",
    "        return False\n",
    "\n",
    "    def dup_items(self):\n",
    "        temp = set(self)\n",
    "        return len(temp) < len(self)"
   ]
  },
  {
   "cell_type": "code",
   "execution_count": null,
   "metadata": {
    "pycharm": {
     "name": "#%%\n",
     "is_executing": true
    }
   },
   "outputs": [
    {
     "name": "stdout",
     "output_type": "stream",
     "text": [
      "Menu: \n",
      "\thelp: ?\n",
      "\tadd student: a\n",
      "\tremove student: r\n",
      "\tmodify grades: m\n",
      "\tprint all: p\n",
      "Menu: \n",
      "\thelp: ?\n",
      "\tadd student: a\n",
      "\tremove student: r\n",
      "\tmodify grades: m\n",
      "\tprint all: p\n"
     ]
    }
   ],
   "source": [
    "def menu(first: bool=False) -> bool:\n",
    "    if first:\n",
    "        print(\"Menu: \\n\\thelp: ?\\n\\tadd student: a\\n\\tremove student: r\\n\\tmodify grades: m\\n\\tprint all: p\")\n",
    "    res = input(\"\")\n",
    "    if res == \"?\":\n",
    "        print(\"Menu: \\n\\thelp: ?\\n\\tadd student: a\\n\\tremove student: r\\n\\tmodify grades: m\\n\\tprint all: p\")\n",
    "        return True\n",
    "    elif res == \"a\":\n",
    "        add_student()\n",
    "        return True\n",
    "    elif res == \"r\":\n",
    "        remove_student()\n",
    "        return True\n",
    "    elif res == \"m\":\n",
    "        modify()\n",
    "        return True\n",
    "    elif res == \"p\":\n",
    "        print_grades()\n",
    "        return False\n",
    "\n",
    "cont = True\n",
    "menu(True)\n",
    "while cont:\n",
    "    cont = menu()"
   ]
  },
  {
   "cell_type": "code",
   "execution_count": 2,
   "outputs": [],
   "source": [
    "\n"
   ],
   "metadata": {
    "collapsed": false,
    "pycharm": {
     "name": "#%%\n"
    }
   }
  }
 ],
 "metadata": {
  "kernelspec": {
   "name": "pycharm-4021962f",
   "language": "python",
   "display_name": "PyCharm (ISMN6650)"
  },
  "language_info": {
   "codemirror_mode": {
    "name": "ipython",
    "version": 3
   },
   "file_extension": ".py",
   "mimetype": "text/x-python",
   "name": "python",
   "nbconvert_exporter": "python",
   "pygments_lexer": "ipython3",
   "version": "3.8.3"
  }
 },
 "nbformat": 4,
 "nbformat_minor": 4
}