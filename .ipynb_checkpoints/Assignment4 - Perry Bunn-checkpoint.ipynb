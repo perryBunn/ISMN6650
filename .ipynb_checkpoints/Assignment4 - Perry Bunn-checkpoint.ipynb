{
 "cells": [
  {
   "cell_type": "code",
   "execution_count": null,
   "metadata": {},
   "outputs": [],
   "source": [
    "# Perry Bunn"
   ]
  },
  {
   "cell_type": "code",
   "execution_count": 6,
   "metadata": {},
   "outputs": [
    {
     "name": "stdout",
     "output_type": "stream",
     "text": [
      "Can you ask someone to make coffee? (y/n): n\n",
      "Do you have instant coffee? (y/n): n\n",
      "Add water to coffee.\n",
      "Add filter to coffee.\n",
      "Add coffee beans to grinder\n",
      "Grind for 60 seconds.\n",
      "Add coffee grounds to filter.\n",
      "Turn coffee maker on.\n"
     ]
    }
   ],
   "source": [
    "def ground_coffee():\n",
    "    print(\"Add coffee beans to grinder\")\n",
    "    print(\"Grind for 60 seconds.\")\n",
    "\n",
    "def brew_coffee():\n",
    "    print(\"Add water to coffee.\")\n",
    "    print(\"Add filter to coffee.\")\n",
    "    ground_coffee()\n",
    "    print(\"Add coffee grounds to filter.\")\n",
    "    print(\"Turn coffee maker on.\")\n",
    "\n",
    "def boil_water():\n",
    "    question = input(\"Do you have a microwave? (y/n): \")\n",
    "    if question == \"y\":\n",
    "        print(\"Fill cup with water.\")\n",
    "        print(\"Put cup into microwave.\")\n",
    "        print(\"Heat for 3 minutes.\")\n",
    "        return\n",
    "    print(\"Fill kettle with water.\")\n",
    "    print(\"Bring to a boil.\")\n",
    "\n",
    "def instant_coffee():\n",
    "    boil_water()\n",
    "    print(\"Mix water and instant coffee.\")\n",
    "\n",
    "def make_coffee():\n",
    "    question = input(\"Do you have instant coffee? (y/n): \")\n",
    "    if question == \"y\":\n",
    "        instant_coffee()\n",
    "        return\n",
    "    brew_coffee()\n",
    "\n",
    "def get_coffee():\n",
    "    question = input(\"Can you ask someone to make coffee? (y/n): \")\n",
    "    if question == \"y\":\n",
    "        print(\"Ask for coffee.\")\n",
    "        return\n",
    "    make_coffee()\n",
    "\n",
    "    \n",
    "get_coffee()"
   ]
  },
  {
   "cell_type": "code",
   "execution_count": 5,
   "metadata": {},
   "outputs": [
    {
     "name": "stdout",
     "output_type": "stream",
     "text": [
      "False\n",
      "False\n",
      "False\n",
      "False\n",
      "True\n"
     ]
    }
   ],
   "source": [
    "def secure(string):\n",
    "    if len(string) >= 8:\n",
    "        if any(c.islower() for c in string):\n",
    "            if any(c.isupper() for c in string):\n",
    "                if any(c.isdigit() for c in string):\n",
    "                    return True\n",
    "    return False\n",
    "    \n",
    "print(secure(\"no\"))        # False \n",
    "print(secure(\"12345678\"))  # False\n",
    "print(secure(\"no123456\"))  # False\n",
    "print(secure(\"noNOnoNO\"))  # False\n",
    "print(secure(\"yeS12345\"))  # True"
   ]
  },
  {
   "cell_type": "code",
   "execution_count": 3,
   "metadata": {},
   "outputs": [
    {
     "name": "stdout",
     "output_type": "stream",
     "text": [
      "1\n",
      "1\n",
      "2\n",
      "6\n",
      "24\n",
      "120\n"
     ]
    }
   ],
   "source": [
    "# Because I can\n",
    "def factorial(n):\n",
    "    if n <= 1:\n",
    "        return 1\n",
    "    return n * factorial(n-1)\n",
    "\n",
    "print(factorial(0))\n",
    "print(factorial(1))\n",
    "print(factorial(2))\n",
    "print(factorial(3))\n",
    "print(factorial(4))\n",
    "print(factorial(5))\n",
    "print(factorial(6))"
   ]
  }
 ],
 "metadata": {
  "kernelspec": {
   "display_name": "Python 3",
   "language": "python",
   "name": "python3"
  },
  "language_info": {
   "codemirror_mode": {
    "name": "ipython",
    "version": 3
   },
   "file_extension": ".py",
   "mimetype": "text/x-python",
   "name": "python",
   "nbconvert_exporter": "python",
   "pygments_lexer": "ipython3",
   "version": "3.8.3"
  }
 },
 "nbformat": 4,
 "nbformat_minor": 4
}
