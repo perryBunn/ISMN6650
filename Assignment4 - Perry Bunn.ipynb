{
 "cells": [
  {
   "cell_type": "code",
   "execution_count": null,
   "metadata": {},
   "outputs": [],
   "source": [
    "Perry Bunn"
   ]
  },
  {
   "cell_type": "code",
   "execution_count": null,
   "metadata": {},
   "outputs": [],
   "source": [
    "# https://sca.coffee/research/coffee-standards\n",
    "def brewCoffee():\n",
    "    print(\"in progress\")"
   ]
  },
  {
   "cell_type": "code",
   "execution_count": 3,
   "metadata": {},
   "outputs": [
    {
     "name": "stdout",
     "output_type": "stream",
     "text": [
      "False\n",
      "False\n",
      "False\n",
      "False\n",
      "True\n"
     ]
    }
   ],
   "source": [
    "def secure(string):\n",
    "    if len(string) >= 8:\n",
    "        if any(c.islower() for c in string):\n",
    "            if any(c.isupper() for c in string):\n",
    "                if any(c.isdigit() for c in string):\n",
    "                    return True\n",
    "    return False\n",
    "    \n",
    "print(secure(\"no\"))        # False \n",
    "print(secure(\"12345678\"))  # False\n",
    "print(secure(\"no123456\"))  # False\n",
    "print(secure(\"noNOnoNO\"))  # False\n",
    "print(secure(\"yeS12345\"))  # True"
   ]
  },
  {
   "cell_type": "code",
   "execution_count": null,
   "metadata": {},
   "outputs": [],
   "source": []
  }
 ],
 "metadata": {
  "kernelspec": {
   "display_name": "Python 3",
   "language": "python",
   "name": "python3"
  },
  "language_info": {
   "codemirror_mode": {
    "name": "ipython",
    "version": 3
   },
   "file_extension": ".py",
   "mimetype": "text/x-python",
   "name": "python",
   "nbconvert_exporter": "python",
   "pygments_lexer": "ipython3",
   "version": "3.5.2"
  }
 },
 "nbformat": 4,
 "nbformat_minor": 4
}
