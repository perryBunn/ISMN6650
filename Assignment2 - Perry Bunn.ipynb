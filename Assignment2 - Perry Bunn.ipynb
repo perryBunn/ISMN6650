{
 "cells": [
  {
   "cell_type": "code",
   "execution_count": 1,
   "metadata": {},
   "outputs": [
    {
     "name": "stdout",
     "output_type": "stream",
     "text": [
      "Perry Bunn\n"
     ]
    }
   ],
   "source": [
    "print(\"Perry Bunn\")"
   ]
  },
  {
   "cell_type": "code",
   "execution_count": 4,
   "metadata": {},
   "outputs": [
    {
     "name": "stdout",
     "output_type": "stream",
     "text": [
      "Enter a string: Perry\n",
      "Enter a string: Parry\n",
      "Enter a string: Eric\n",
      "['Eric', 'Parry', 'Perry']\n"
     ]
    }
   ],
   "source": [
    "one = input(\"Enter a string: \")\n",
    "two = input(\"Enter a string: \")\n",
    "three = input(\"Enter a string: \")\n",
    "sort = [one,two,three]\n",
    "a = sorted(sort)\n",
    "print(a)"
   ]
  },
  {
   "cell_type": "code",
   "execution_count": 10,
   "metadata": {},
   "outputs": [
    {
     "name": "stdout",
     "output_type": "stream",
     "text": [
      "Enter a string: 123456789\n"
     ]
    },
    {
     "ename": "AttributeError",
     "evalue": "'str' object has no attribute 'isUpper'",
     "output_type": "error",
     "traceback": [
      "\u001b[1;31m---------------------------------------------------------------------------\u001b[0m",
      "\u001b[1;31mAttributeError\u001b[0m                            Traceback (most recent call last)",
      "\u001b[1;32m<ipython-input-10-3353761c9d27>\u001b[0m in \u001b[0;36m<module>\u001b[1;34m\u001b[0m\n\u001b[0;32m     11\u001b[0m \u001b[0mseen\u001b[0m \u001b[1;33m=\u001b[0m \u001b[1;33m[\u001b[0m\u001b[1;32mFalse\u001b[0m\u001b[1;33m,\u001b[0m\u001b[1;32mFalse\u001b[0m\u001b[1;33m,\u001b[0m\u001b[1;32mFalse\u001b[0m\u001b[1;33m,\u001b[0m\u001b[1;32mFalse\u001b[0m\u001b[1;33m]\u001b[0m \u001b[1;31m#letter, upper, lower, digit\u001b[0m\u001b[1;33m\u001b[0m\u001b[1;33m\u001b[0m\u001b[0m\n\u001b[0;32m     12\u001b[0m \u001b[1;33m\u001b[0m\u001b[0m\n\u001b[1;32m---> 13\u001b[1;33m \u001b[1;32mif\u001b[0m\u001b[1;33m(\u001b[0m\u001b[0mstring\u001b[0m\u001b[1;33m[\u001b[0m\u001b[1;36m0\u001b[0m\u001b[1;33m]\u001b[0m\u001b[1;33m.\u001b[0m\u001b[0misUpper\u001b[0m\u001b[1;33m(\u001b[0m\u001b[1;33m)\u001b[0m\u001b[1;33m)\u001b[0m\u001b[1;33m:\u001b[0m\u001b[1;33m\u001b[0m\u001b[1;33m\u001b[0m\u001b[0m\n\u001b[0m\u001b[0;32m     14\u001b[0m     \u001b[0mstartUpper\u001b[0m \u001b[1;33m=\u001b[0m \u001b[1;32mTrue\u001b[0m\u001b[1;33m\u001b[0m\u001b[1;33m\u001b[0m\u001b[0m\n\u001b[0;32m     15\u001b[0m \u001b[1;32mif\u001b[0m\u001b[1;33m(\u001b[0m\u001b[0mstring\u001b[0m\u001b[1;33m[\u001b[0m\u001b[1;33m-\u001b[0m\u001b[1;36m1\u001b[0m\u001b[1;33m]\u001b[0m \u001b[1;33m==\u001b[0m \u001b[1;34m\".\"\u001b[0m\u001b[1;33m)\u001b[0m\u001b[1;33m:\u001b[0m\u001b[1;33m\u001b[0m\u001b[1;33m\u001b[0m\u001b[0m\n",
      "\u001b[1;31mAttributeError\u001b[0m: 'str' object has no attribute 'isUpper'"
     ]
    }
   ],
   "source": [
    "string = input(\"Enter a string: \")\n",
    "\n",
    "onlyLetters = False\n",
    "onlyUpper = False\n",
    "onlyLower = False\n",
    "onlyDig = False\n",
    "mixedAlpha = False\n",
    "startUpper = False\n",
    "endPeriod = False\n",
    "\n",
    "seen = [False,False,False,False] #letter, upper, lower, digit\n",
    "\n",
    "if(string[0].isUpper()):\n",
    "    startUpper = True\n",
    "if(string[-1] == \".\"):\n",
    "    endPeriod = True\n",
    "\n",
    "for i in range(len(string)):\n",
    "    if (string[i].isdigit()):\n",
    "        onlyLetters = False\n",
    "        seen[3] = True\n",
    "    if(string[i].isupper()):\n",
    "        seen[0] = True\n",
    "        seen[1] = True\n",
    "    if(string[i].islower()):\n",
    "        seen[0] = True\n",
    "        seen[2] = True\n",
    "\n",
    "if(seen[3] == False):\n",
    "    onlyLetters = True\n",
    "if(seen[0] == True and seen[3] == True):\n",
    "    mixedAlpha = True\n",
    "if(seen[1] == True and seen[2] == false):\n",
    "    onlyUpper = True\n",
    "if(seen[0] == False and seen[3] == True):\n",
    "    onlyDig = True\n",
    "\n",
    "print(onlyLetters)\n",
    "print(onlyUpper)\n",
    "print(onlyLower)\n",
    "print(onlyDig)\n",
    "print(mixedAlpha)\n",
    "print(startUpper)\n",
    "print(endPeriod)"
   ]
  },
  {
   "cell_type": "code",
   "execution_count": null,
   "metadata": {},
   "outputs": [],
   "source": []
  }
 ],
 "metadata": {
  "kernelspec": {
   "display_name": "Python 3",
   "language": "python",
   "name": "python3"
  },
  "language_info": {
   "codemirror_mode": {
    "name": "ipython",
    "version": 3
   },
   "file_extension": ".py",
   "mimetype": "text/x-python",
   "name": "python",
   "nbconvert_exporter": "python",
   "pygments_lexer": "ipython3",
   "version": "3.8.3"
  }
 },
 "nbformat": 4,
 "nbformat_minor": 4
}
